{
 "cells": [
  {
   "cell_type": "code",
   "execution_count": 2,
   "metadata": {},
   "outputs": [],
   "source": [
    "import h5py\n",
    "import pandas as pd"
   ]
  },
  {
   "cell_type": "code",
   "execution_count": 12,
   "metadata": {},
   "outputs": [],
   "source": [
    "\n",
    "path = \"../Data/\"\n",
    "datapath = path  + \"MultiRM_data.h5\""
   ]
  },
  {
   "cell_type": "code",
   "execution_count": 13,
   "metadata": {},
   "outputs": [],
   "source": [
    "data = h5py.File(datapath,'r')"
   ]
  },
  {
   "cell_type": "markdown",
   "metadata": {},
   "source": [
    "# Available keys"
   ]
  },
  {
   "cell_type": "code",
   "execution_count": 14,
   "metadata": {},
   "outputs": [
    {
     "data": {
      "text/plain": [
       "<KeysViewHDF5 ['test_in_nucleo', 'test_out', 'train_in_nucleo', 'train_out', 'valid_in_nucleo', 'valid_out']>"
      ]
     },
     "execution_count": 14,
     "metadata": {},
     "output_type": "execute_result"
    }
   ],
   "source": [
    "data.keys()"
   ]
  },
  {
   "attachments": {},
   "cell_type": "markdown",
   "metadata": {},
   "source": [
    "# Training Data"
   ]
  },
  {
   "cell_type": "code",
   "execution_count": 15,
   "metadata": {},
   "outputs": [
    {
     "name": "stdout",
     "output_type": "stream",
     "text": [
      "<class 'pandas.core.frame.DataFrame'>\n",
      "Int64Index: 304661 entries, 0 to 304660\n",
      "Columns: 1001 entries, V1 to V1001\n",
      "dtypes: object(1001)\n",
      "memory usage: 2.3+ GB\n",
      "<class 'pandas.core.frame.DataFrame'>\n",
      "Int64Index: 304661 entries, 0 to 304660\n",
      "Data columns (total 12 columns):\n",
      " #   Column  Non-Null Count   Dtype  \n",
      "---  ------  --------------   -----  \n",
      " 0   hAm     304661 non-null  float64\n",
      " 1   hCm     304661 non-null  float64\n",
      " 2   hGm     304661 non-null  float64\n",
      " 3   hTm     304661 non-null  float64\n",
      " 4   hm1A    304661 non-null  float64\n",
      " 5   hm5C    304661 non-null  float64\n",
      " 6   hm5U    304661 non-null  float64\n",
      " 7   hm6A    304661 non-null  float64\n",
      " 8   hm6Am   304661 non-null  float64\n",
      " 9   hm7G    304661 non-null  float64\n",
      " 10  hPsi    304661 non-null  float64\n",
      " 11  Atol    304661 non-null  float64\n",
      "dtypes: float64(12)\n",
      "memory usage: 30.2 MB\n"
     ]
    }
   ],
   "source": [
    "train_in = pd.read_hdf(datapath,\"train_in_nucleo\")\n",
    "train_in.info()\n",
    "\n",
    "train_in.to_csv(path+\"train_in.csv\" , index = False)\n",
    "\n",
    "train_out = pd.read_hdf(datapath,\"train_out\")\n",
    "train_out.info()\n",
    "\n",
    "train_out.to_csv(path + \"train_out.csv\" , index=False)\n"
   ]
  },
  {
   "attachments": {},
   "cell_type": "markdown",
   "metadata": {},
   "source": [
    "# Testing Data"
   ]
  },
  {
   "cell_type": "code",
   "execution_count": 17,
   "metadata": {},
   "outputs": [
    {
     "name": "stdout",
     "output_type": "stream",
     "text": [
      "<class 'pandas.core.frame.DataFrame'>\n",
      "Int64Index: 1200 entries, 0 to 1199\n",
      "Columns: 1001 entries, V1 to V1001\n",
      "dtypes: object(1001)\n",
      "memory usage: 9.2+ MB\n",
      "<class 'pandas.core.frame.DataFrame'>\n",
      "Int64Index: 1200 entries, 0 to 1199\n",
      "Data columns (total 12 columns):\n",
      " #   Column  Non-Null Count  Dtype  \n",
      "---  ------  --------------  -----  \n",
      " 0   hAm     1200 non-null   float64\n",
      " 1   hCm     1200 non-null   float64\n",
      " 2   hGm     1200 non-null   float64\n",
      " 3   hTm     1200 non-null   float64\n",
      " 4   hm1A    1200 non-null   float64\n",
      " 5   hm5C    1200 non-null   float64\n",
      " 6   hm5U    1200 non-null   float64\n",
      " 7   hm6A    1200 non-null   float64\n",
      " 8   hm6Am   1200 non-null   float64\n",
      " 9   hm7G    1200 non-null   float64\n",
      " 10  hPsi    1200 non-null   float64\n",
      " 11  Atol    1200 non-null   float64\n",
      "dtypes: float64(12)\n",
      "memory usage: 121.9 KB\n"
     ]
    }
   ],
   "source": [
    "test_in = pd.read_hdf(datapath,\"test_in_nucleo\")\n",
    "test_in.info()\n",
    "\n",
    "test_in.to_csv(path + \"test_in.csv\" , index=False)\n",
    "\n",
    "test_out = pd.read_hdf(datapath,\"test_out\")\n",
    "test_out.info()\n",
    "\n",
    "test_out.to_csv(path + \"test_out.csv\" , index=False)\n"
   ]
  },
  {
   "attachments": {},
   "cell_type": "markdown",
   "metadata": {},
   "source": [
    "# Validation Data"
   ]
  },
  {
   "cell_type": "code",
   "execution_count": 16,
   "metadata": {},
   "outputs": [
    {
     "name": "stdout",
     "output_type": "stream",
     "text": [
      "<class 'pandas.core.frame.DataFrame'>\n",
      "Int64Index: 3599 entries, 0 to 3598\n",
      "Columns: 1001 entries, V1 to V1001\n",
      "dtypes: object(1001)\n",
      "memory usage: 27.5+ MB\n"
     ]
    }
   ],
   "source": [
    "valid_in_nucleo = pd.read_hdf(datapath,\"valid_in_nucleo\")\n",
    "valid_in_nucleo.info()\n",
    "\n",
    "valid_in_nucleo.to_csv(path +\"valid_in_nucleo.csv\" , index=False)\n",
    "\n",
    "\n",
    "valid_out = pd.read_hdf(datapath , \"valid_out\")\n",
    "valid_out.to_csv(path+\"valid_out.csv\" , index=False)"
   ]
  }
 ],
 "metadata": {
  "kernelspec": {
   "display_name": "hugging_face_env",
   "language": "python",
   "name": "python3"
  },
  "language_info": {
   "codemirror_mode": {
    "name": "ipython",
    "version": 3
   },
   "file_extension": ".py",
   "mimetype": "text/x-python",
   "name": "python",
   "nbconvert_exporter": "python",
   "pygments_lexer": "ipython3",
   "version": "3.10.5"
  },
  "vscode": {
   "interpreter": {
    "hash": "50c2ba21007497ecf5b8f0dd2facd540dc8e1da19a60a8d7e64a02797866e93a"
   }
  }
 },
 "nbformat": 4,
 "nbformat_minor": 4
}
